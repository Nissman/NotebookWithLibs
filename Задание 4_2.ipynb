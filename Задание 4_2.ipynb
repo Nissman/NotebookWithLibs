{
 "cells": [
  {
   "cell_type": "code",
   "execution_count": 71,
   "metadata": {},
   "outputs": [
    {
     "name": "stdout",
     "output_type": "stream",
     "text": [
      "   Квадрат\n",
      "1        4\n",
      "3       16\n",
      "5       36\n",
      "7       64\n",
      "9      100\n"
     ]
    }
   ],
   "source": [
    "import numpy\n",
    "import pandas\n",
    "import matplotlib.pyplot\n",
    "df = pandas.DataFrame()\n",
    "df.insert(0,'Число',[1,2,3,4,5,6,7,8,9,10])\n",
    "df.insert(1,'Квадрат',df['Число']*df['Число'])\n",
    "df_2=df.loc[df['Число']%2==0]\n",
    "df_2=df_2.drop(['Число'], axis='columns')\n",
    "#del df_2['Число']\n",
    "print(df_2)"
   ]
  },
  {
   "cell_type": "code",
   "execution_count": null,
   "metadata": {},
   "outputs": [],
   "source": [
    " Вернитесь к файлу «empty_notebook.ipynb», открытому в Binder.\n",
    "     Создайте пустой DataFrame. \n",
    "     Добавьте в него столбец «Число» со значениями от 1 до 10. \n",
    "     Добавьте в него столбец «Квадрат» со значениями, равными квадратам чисел в столбце «Число».\n",
    "     Создайте новый DataFrame из строк первого DataFrame, в которых значение в столбце «Число» — чётное.\n",
    "     Удалите из нового DataFrame столбец «Число». \n",
    "     Выведите получившийся DataFrame. \n",
    "     Сохраните файл Jupyter notebook с названием «Задание 4_2.ipynb» и загрузите его в созданный репозиторий."
   ]
  }
 ],
 "metadata": {
  "kernelspec": {
   "display_name": "Python 3",
   "language": "python",
   "name": "python3"
  },
  "language_info": {
   "codemirror_mode": {
    "name": "ipython",
    "version": 3
   },
   "file_extension": ".py",
   "mimetype": "text/x-python",
   "name": "python",
   "nbconvert_exporter": "python",
   "pygments_lexer": "ipython3",
   "version": "3.7.6"
  }
 },
 "nbformat": 4,
 "nbformat_minor": 2
}
